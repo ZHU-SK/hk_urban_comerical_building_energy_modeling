{
 "cells": [
  {
   "cell_type": "code",
   "execution_count": 1,
   "metadata": {},
   "outputs": [],
   "source": [
    "import pandas as pd\n",
    "import numpy as np\n",
    "import matplotlib.pyplot as plt\n",
    "from sklearn import metrics\n",
    "from sklearn.svm import SVR\n",
    "from sklearn.utils.class_weight import compute_sample_weight\n",
    "from sklearn.preprocessing import StandardScaler\n",
    "from sklearn.model_selection import train_test_split\n",
    "from sklearn.model_selection import RandomizedSearchCV\n",
    "from sklearn.model_selection import KFold"
   ]
  },
  {
   "cell_type": "code",
   "execution_count": 2,
   "metadata": {},
   "outputs": [],
   "source": [
    "data = pd.read_csv(r\"C:\\Zhongming Lu\\hk_bld\\eui\\final data\\hk_eui_sample_for_analysis.csv\",index_col=0,encoding='ISO-8859-1')\n",
    "data = data.drop(['dist_searc','AddressofB','Expiry_dat','BEC_name','BEC_addres','Date_FOC','Date_EA','Date_FoC_1',\n",
    "                 'x','y','result_cod','English_bu','Street_No','E_Estate_N',\n",
    "                 'District','bld_x','bld_y','bld_code','TPU','Shape_Leng'],axis=1)\n",
    "data = data[(data.TPU_join>0) & (data.bld_info_j>0) & (data.manual_che == 0)]\n",
    "data = data[ (data.highrise_j>0) | (data.podium_j>0) ]\n",
    "data = data[(data.kWh_m2_ann>10) & (data.kWh_m2_ann<400)]\n",
    "data = data[(data.Year_Built>0) & (data.No_of_Stor>0)]"
   ]
  },
  {
   "cell_type": "code",
   "execution_count": 3,
   "metadata": {},
   "outputs": [],
   "source": [
    "data['Area'] = np.where(data['highrise'] == 1, data['highrise_a'], data['podium_are'])"
   ]
  },
  {
   "cell_type": "code",
   "execution_count": 4,
   "metadata": {},
   "outputs": [],
   "source": [
    "data['retro_before'] = np.where(data['retro']=='Before',1,0)\n",
    "data['retro_after'] = np.where(data['retro']=='After',1,0)"
   ]
  },
  {
   "cell_type": "code",
   "execution_count": 5,
   "metadata": {},
   "outputs": [],
   "source": [
    "data['log_area'] = np.log10(data['Area']+1)\n",
    "data['log_hotel_kern'] = np.log10(data['hotel_kern']+1)\n",
    "data['log_retail_ker'] = np.log10(data['retail_ker']+1)\n",
    "data['log_parking_ke'] = np.log10(data['parking_ke']+1)\n",
    "data['log_food_kerne'] = np.log10(data['food_kerne']+1)\n",
    "data['log_office_ker'] = np.log10(data['office_ker']+1)"
   ]
  },
  {
   "cell_type": "code",
   "execution_count": 6,
   "metadata": {},
   "outputs": [],
   "source": [
    "data['log_mtr_dist'] = np.log10(data['mtr_dist'])"
   ]
  },
  {
   "cell_type": "code",
   "execution_count": 7,
   "metadata": {},
   "outputs": [],
   "source": [
    "data['commercial'] = np.where(data['RASTERVALU']==11,1,0)"
   ]
  },
  {
   "cell_type": "code",
   "execution_count": 8,
   "metadata": {},
   "outputs": [],
   "source": [
    "y = data['kWh_m2_ann'].reset_index(drop=True)"
   ]
  },
  {
   "cell_type": "code",
   "execution_count": 9,
   "metadata": {},
   "outputs": [],
   "source": [
    "log_y = np.log10(y)"
   ]
  },
  {
   "cell_type": "code",
   "execution_count": 10,
   "metadata": {},
   "outputs": [
    {
     "data": {
      "text/plain": [
       "1.778729923996112"
      ]
     },
     "execution_count": 10,
     "metadata": {},
     "output_type": "execute_result"
    }
   ],
   "source": [
    "log_eui_median = log_y.median()\n",
    "log_eui_median"
   ]
  },
  {
   "cell_type": "code",
   "execution_count": 11,
   "metadata": {},
   "outputs": [],
   "source": [
    "log_y_category = pd.cut(log_y, bins=5)\n",
    "log_y_weight = compute_sample_weight('balanced',log_y_category)"
   ]
  },
  {
   "cell_type": "code",
   "execution_count": 156,
   "metadata": {},
   "outputs": [],
   "source": [
    "#Weight adjustment\n",
    "#for i in range(len(log_y)):\n",
    "#    if log_y[i]<=1.2 or log_y[i]>2.25:\n",
    "#        log_y_weight[i] = log_y_weight[i]*32\n",
    "#    elif log_y[i]>1.70 and log_y[i]<1.90:\n",
    "#        log_y_weight[i] = log_y_weight[i]/16\n",
    "#    else:\n",
    "#        log_y_weight[i] = log_y_weight[i]*6"
   ]
  },
  {
   "cell_type": "code",
   "execution_count": 12,
   "metadata": {},
   "outputs": [],
   "source": [
    "X = data[['log_hotel_kern','log_parking_ke','log_food_kerne','log_office_ker','log_retail_ker','DNI_HK','HKG_wind_s','tsd_mask','log_area',\n",
    "         'No_of_Stor','Year_Built','retro_before','retro_after','log_mtr_dist','is_commercial']].reset_index(drop=True)"
   ]
  },
  {
   "cell_type": "code",
   "execution_count": 13,
   "metadata": {},
   "outputs": [],
   "source": [
    "seed = 8000"
   ]
  },
  {
   "cell_type": "code",
   "execution_count": 14,
   "metadata": {},
   "outputs": [],
   "source": [
    "log_y_values = log_y.values.reshape(-1,1)\n",
    "X_values = X.values"
   ]
  },
  {
   "cell_type": "code",
   "execution_count": 15,
   "metadata": {},
   "outputs": [],
   "source": [
    "sc_log_y_values = StandardScaler()\n",
    "sc_X_values = StandardScaler()\n",
    "log_y_values = sc_log_y_values.fit_transform(log_y_values).flatten()\n",
    "X_values = sc_X_values.fit_transform(X_values)"
   ]
  },
  {
   "cell_type": "code",
   "execution_count": 161,
   "metadata": {},
   "outputs": [
    {
     "data": {
      "text/plain": [
       "array([-0.64210489, -1.49586768,  0.72763108, ...,  0.28893126,\n",
       "       -0.13158714,  0.59866653])"
      ]
     },
     "execution_count": 161,
     "metadata": {},
     "output_type": "execute_result"
    }
   ],
   "source": [
    "log_y_values"
   ]
  },
  {
   "cell_type": "code",
   "execution_count": 162,
   "metadata": {},
   "outputs": [],
   "source": [
    "np.random.seed(8000)\n",
    "c_range = np.random.uniform(0.0,20.0,100)\n",
    "gamma_range = ['scale','auto']\n",
    "epsilon_range = np.random.uniform(0.0,0.2,20)"
   ]
  },
  {
   "cell_type": "code",
   "execution_count": 163,
   "metadata": {},
   "outputs": [],
   "source": [
    "hyperparameters = {'gamma': list(gamma_range), \n",
    "                    'C': list(c_range),\n",
    "                   'epsilon': list(epsilon_range)}"
   ]
  },
  {
   "cell_type": "code",
   "execution_count": 164,
   "metadata": {},
   "outputs": [],
   "source": [
    "svr_CV = RandomizedSearchCV(SVR(kernel='rbf', ), param_distributions=hyperparameters, n_iter=200, \n",
    "                            cv = 5, verbose=2, random_state= seed, n_jobs = -1, scoring='r2')"
   ]
  },
  {
   "cell_type": "code",
   "execution_count": 165,
   "metadata": {},
   "outputs": [
    {
     "name": "stdout",
     "output_type": "stream",
     "text": [
      "Fitting 5 folds for each of 200 candidates, totalling 1000 fits\n"
     ]
    },
    {
     "name": "stderr",
     "output_type": "stream",
     "text": [
      "[Parallel(n_jobs=-1)]: Using backend LokyBackend with 8 concurrent workers.\n",
      "[Parallel(n_jobs=-1)]: Done  25 tasks      | elapsed:    3.5s\n",
      "[Parallel(n_jobs=-1)]: Done 146 tasks      | elapsed:    6.0s\n",
      "[Parallel(n_jobs=-1)]: Done 349 tasks      | elapsed:   11.7s\n",
      "[Parallel(n_jobs=-1)]: Done 632 tasks      | elapsed:   19.1s\n",
      "[Parallel(n_jobs=-1)]: Done 1000 out of 1000 | elapsed:   30.3s finished\n"
     ]
    },
    {
     "data": {
      "text/plain": [
       "RandomizedSearchCV(cv=5, estimator=SVR(), n_iter=200, n_jobs=-1,\n",
       "                   param_distributions={'C': [17.153397763096166,\n",
       "                                              18.85253664735223,\n",
       "                                              8.33431800509332,\n",
       "                                              2.173075359418173,\n",
       "                                              6.406130654988951,\n",
       "                                              19.123614533596452,\n",
       "                                              17.988738245792582,\n",
       "                                              6.756708877629299,\n",
       "                                              7.853721285470088,\n",
       "                                              16.75034090452481,\n",
       "                                              4.951106041020998,\n",
       "                                              19.401277613689757,\n",
       "                                              17.446021708481886,\n",
       "                                              3.4579792082956984,\n",
       "                                              0.3424...\n",
       "                                                    0.15023948823028344,\n",
       "                                                    0.059320937115282836,\n",
       "                                                    0.1776309737213761,\n",
       "                                                    0.035874432570853834,\n",
       "                                                    0.011476274666110786,\n",
       "                                                    0.07906818695202925,\n",
       "                                                    0.1621875087915161,\n",
       "                                                    0.12743784116598586,\n",
       "                                                    0.047351560396577536,\n",
       "                                                    0.09806617925699355,\n",
       "                                                    0.045270366673521245,\n",
       "                                                    0.018877381122972103,\n",
       "                                                    0.11482174210335028,\n",
       "                                                    0.038863074246451856],\n",
       "                                        'gamma': ['scale', 'auto']},\n",
       "                   random_state=8000, scoring='r2', verbose=2)"
      ]
     },
     "execution_count": 165,
     "metadata": {},
     "output_type": "execute_result"
    }
   ],
   "source": [
    "svr_CV.fit(X_values, log_y_values, sample_weight=log_y_weight)"
   ]
  },
  {
   "cell_type": "code",
   "execution_count": 166,
   "metadata": {},
   "outputs": [
    {
     "data": {
      "text/plain": [
       "{'gamma': 'auto', 'epsilon': 0.07906818695202925, 'C': 0.34241977486852093}"
      ]
     },
     "execution_count": 166,
     "metadata": {},
     "output_type": "execute_result"
    }
   ],
   "source": [
    "svr_CV.best_params_"
   ]
  },
  {
   "cell_type": "code",
   "execution_count": 167,
   "metadata": {},
   "outputs": [],
   "source": [
    "svr_best = SVR(kernel='rbf', C=svr_CV.best_params_['C'], gamma=svr_CV.best_params_['gamma'], epsilon=svr_CV.best_params_['epsilon'])"
   ]
  },
  {
   "cell_type": "code",
   "execution_count": 16,
   "metadata": {},
   "outputs": [],
   "source": [
    "best_params_ = {'gamma': 'auto', 'epsilon': 0.07906818695202925, 'C': 0.34241977486852093}"
   ]
  },
  {
   "cell_type": "code",
   "execution_count": 17,
   "metadata": {},
   "outputs": [],
   "source": [
    "svr_best = SVR(kernel='rbf', C=best_params_['C'], gamma=best_params_['gamma'], epsilon=best_params_['epsilon'])"
   ]
  },
  {
   "cell_type": "code",
   "execution_count": 168,
   "metadata": {},
   "outputs": [],
   "source": [
    "#X_train, X_test, y_train, y_test, weight_train, weight_test = train_test_split(X_values, log_y_values, log_y_weight, test_size=0.2, random_state=8000)"
   ]
  },
  {
   "cell_type": "code",
   "execution_count": 169,
   "metadata": {},
   "outputs": [],
   "source": [
    "#svr_rbf.fit(X_train, y_train, weight_train)"
   ]
  },
  {
   "cell_type": "code",
   "execution_count": 18,
   "metadata": {},
   "outputs": [
    {
     "name": "stdout",
     "output_type": "stream",
     "text": [
      "RMSE: 0.3307\n",
      "R2: 0.2152\n",
      "Accuracy:  71.43%\n",
      "RMSE: 0.3137\n",
      "R2: 0.2727\n",
      "Accuracy:  69.52%\n",
      "RMSE: 0.3048\n",
      "R2: 0.3280\n",
      "Accuracy:  78.10%\n",
      "RMSE: 0.3109\n",
      "R2: 0.2887\n",
      "Accuracy:  70.95%\n",
      "RMSE: 0.3100\n",
      "R2: 0.2260\n",
      "Accuracy:  74.64%\n"
     ]
    }
   ],
   "source": [
    "cv = KFold(n_splits=5, random_state=seed, shuffle=True)\n",
    "\n",
    "for (train, test), i in zip(cv.split(X_values, log_y_values), range(5)):\n",
    "    svr_best.fit(X_values[train], log_y_values[train], sample_weight = log_y_weight[train])\n",
    "    y_pred = svr_best.predict(X_values[test])\n",
    "    y_pred = sc_log_y_values.inverse_transform(y_pred) \n",
    "    y_test = sc_log_y_values.inverse_transform(log_y_values[test])\n",
    "    #log_y_pred = qt.inverse_transform(log_y_transform_pred.reshape(-1,1))\n",
    "    \n",
    "    \n",
    "    accuracy_num = 0 \n",
    "    \n",
    "    for i in range(len(y_pred)):\n",
    "        if y_test[i] > log_eui_median:\n",
    "            if y_pred[i] > log_eui_median:\n",
    "                accuracy_num = accuracy_num + 1\n",
    "        if y_test[i] <= log_eui_median:\n",
    "            if y_pred[i] <= log_eui_median:\n",
    "                accuracy_num = accuracy_num + 1\n",
    "                \n",
    "    rmse_test = metrics.mean_squared_error(y_test, y_pred, squared=False)\n",
    "    r2_test = metrics.r2_score(y_test,y_pred)\n",
    "    accuarcy_test = \"{:.2%}\".format(accuracy_num/len(y_pred))\n",
    "    print ('RMSE: %.4f'%rmse_test)\n",
    "    print ('R2: %.4f'%r2_test)\n",
    "    print ('Accuracy: ', accuarcy_test)"
   ]
  },
  {
   "cell_type": "code",
   "execution_count": 19,
   "metadata": {},
   "outputs": [],
   "source": [
    "plt.rcParams[\"font.family\"] = \"Times New Roman\"\n",
    "plt.rcParams[\"savefig.dpi\"] = 300"
   ]
  },
  {
   "cell_type": "code",
   "execution_count": 21,
   "metadata": {},
   "outputs": [
    {
     "data": {
      "image/png": "[encoded data removed]",
      "text/plain": [
       "<Figure size 432x432 with 1 Axes>"
      ]
     },
     "metadata": {
      "needs_background": "light"
     },
     "output_type": "display_data"
    }
   ],
   "source": [
    "fig, ax = plt.subplots(1,1,figsize=(6,6))\n",
    "ax.scatter(y_test, y_pred, color='b', s=10)    \n",
    "ax.plot([-10,10],[-10,10], color='k', linewidth=1)\n",
    "ax.set_xlim([0.5,3])\n",
    "ax.set_ylim([0.5,3])\n",
    "ax.tick_params(axis='both', which='major', labelsize=22)\n",
    "ax.set_title(\"SVM_test:R2=0.27\", fontsize=22)\n",
    "#ax.annotate('R2=0.31',(1.5,2.5), fontsize=22)\n",
    "#ax.set_title(\"%f Error Plot\"%(r2_score(y_test, y_pred)), fontsize=17)\n",
    "#ax.set_title(\"%f Error Plot\"%(mean_squared_error(log_y_transform_s,log_y_transform_pred,squared=False)), fontsize=17)\n",
    "ax.set_xlabel(\"log10_EUI_observation\", fontsize=22)\n",
    "ax.set_ylabel(\"log10_EUI_prediction\", fontsize=22)\n",
    "ax.xaxis.set_major_locator(plt.MaxNLocator(5))\n",
    "ax.yaxis.set_major_locator(plt.MaxNLocator(5))\n",
    "\n",
    "plt.subplots_adjust(left=0.2,right=0.9)\n",
    "\n",
    "plt.savefig(r'C:\\Users\\zhongminglu\\OneDrive - HKUST\\Paper 13\\svm_test.png')\n",
    "\n",
    "plt.show()\n",
    "plt.close()"
   ]
  },
  {
   "cell_type": "code",
   "execution_count": 141,
   "metadata": {},
   "outputs": [],
   "source": [
    "y_pred = svr_best.predict(X_values)\n",
    "y_pred = sc_log_y_values.inverse_transform(y_pred) \n",
    "y_true = sc_log_y_values.inverse_transform(log_y_values)"
   ]
  },
  {
   "cell_type": "code",
   "execution_count": 142,
   "metadata": {},
   "outputs": [
    {
     "data": {
      "image/png": "[encoded data removed]",
      "text/plain": [
       "<Figure size 360x360 with 1 Axes>"
      ]
     },
     "metadata": {
      "needs_background": "light"
     },
     "output_type": "display_data"
    }
   ],
   "source": [
    "fig, ax = plt.subplots(1,1,figsize=(5,5))\n",
    "ax.scatter(y_true, y_pred, color='b', s=4, label=\"Predicted\")    \n",
    "ax.plot([-10,10],[-10,10], color='k', linewidth=1)\n",
    "ax.set_xlim([0.5,3])\n",
    "ax.set_ylim([0.5,3])\n",
    "ax.set_title(\"%f Error Plot\"%(metrics.r2_score(y_true, y_pred)), fontsize=17)\n",
    "#ax.set_title(\"%f Error Plot\"%(metrics.mean_squared_error(log_y_reset,log_y_pred,squared=False)), fontsize=17)\n",
    "ax.set_xlabel(\"EUI(KWh/m2/year)\", fontsize=16)\n",
    "ax.set_ylabel(\"EUI_prediction(KWh/m2/year)\", fontsize=16)\n",
    "plt.show()\n",
    "plt.close()"
   ]
  },
  {
   "cell_type": "code",
   "execution_count": 172,
   "metadata": {},
   "outputs": [
    {
     "data": {
      "image/png": "[encoded data removed]",
      "text/plain": [
       "<Figure size 460.8x316.8 with 1 Axes>"
      ]
     },
     "metadata": {
      "needs_background": "light"
     },
     "output_type": "display_data"
    }
   ],
   "source": [
    "fig, ax = plt.subplots(1,1,figsize=(6.4,4.4))\n",
    "plt.hist(y_test,bins=30)\n",
    "plt.hist(y_pred,bins=30)\n",
    "\n",
    "ax.set_title(\"Distribution of EUI\", fontsize=22, color='k')\n",
    "ax.set_ylabel(\"Frequency\", fontsize=22, color='k')\n",
    "ax.set_xlabel(\"EUI(KWh/m2/year)\", fontsize=22, color='k')\n",
    "ax.tick_params(axis='both', which='major', labelsize=14)\n",
    "\n",
    "plt.show()\n",
    "plt.close()"
   ]
  },
  {
   "cell_type": "code",
   "execution_count": null,
   "metadata": {},
   "outputs": [],
   "source": []
  }
 ],
 "metadata": {
  "kernelspec": {
   "display_name": "Python 3",
   "language": "python",
   "name": "python3"
  },
  "language_info": {
   "codemirror_mode": {
    "name": "ipython",
    "version": 3
   },
   "file_extension": ".py",
   "mimetype": "text/x-python",
   "name": "python",
   "nbconvert_exporter": "python",
   "pygments_lexer": "ipython3",
   "version": "3.8.3"
  }
 },
 "nbformat": 4,
 "nbformat_minor": 4
}
