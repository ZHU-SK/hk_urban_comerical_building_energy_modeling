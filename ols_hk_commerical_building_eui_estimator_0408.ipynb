{
 "cells": [
  {
   "cell_type": "code",
   "execution_count": 1,
   "metadata": {},
   "outputs": [],
   "source": [
    "import numpy as np\n",
    "from sklearn.linear_model import LinearRegression\n",
    "from sklearn.model_selection import KFold\n",
    "from sklearn import metrics\n",
    "import pandas as pd\n",
    "import matplotlib.pyplot as plt\n",
    "from sklearn.utils.class_weight import compute_sample_weight\n",
    "from sklearn.preprocessing import QuantileTransformer"
   ]
  },
  {
   "cell_type": "code",
   "execution_count": 2,
   "metadata": {},
   "outputs": [],
   "source": [
    "data = pd.read_csv(r\"C:\\Zhongming Lu\\hk_bld\\eui\\final data\\hk_eui_sample_for_analysis.csv\",index_col=0,encoding='ISO-8859-1')\n",
    "data = data.drop(['dist_searc','AddressofB','Expiry_dat','BEC_name','BEC_addres','Date_FOC','Date_EA','Date_FoC_1',\n",
    "                 'x','y','result_cod','English_bu','Street_No','E_Estate_N',\n",
    "                 'District','bld_x','bld_y','bld_code','TPU','Shape_Leng'],axis=1)\n",
    "data = data[(data.TPU_join>0) & (data.bld_info_j>0) & (data.manual_che == 0)]\n",
    "data = data[ (data.highrise_j>0) | (data.podium_j>0) ]\n",
    "data = data[(data.kWh_m2_ann>10) & (data.kWh_m2_ann<400)]\n",
    "data = data[(data.Year_Built>0) & (data.No_of_Stor>0)]"
   ]
  },
  {
   "cell_type": "code",
   "execution_count": 3,
   "metadata": {},
   "outputs": [],
   "source": [
    "data['Area'] = np.where(data['highrise'] == 1, data['highrise_a'], data['podium_are'])"
   ]
  },
  {
   "cell_type": "code",
   "execution_count": 4,
   "metadata": {},
   "outputs": [],
   "source": [
    "data['retro_before'] = np.where(data['retro']=='Before',1,0)\n",
    "data['retro_after'] = np.where(data['retro']=='After',1,0)"
   ]
  },
  {
   "cell_type": "code",
   "execution_count": 5,
   "metadata": {},
   "outputs": [],
   "source": [
    "data['log_area'] = np.log10(data['Area']+1)\n",
    "data['log_hotel_kern'] = np.log10(data['hotel_kern']+1)\n",
    "data['log_retail_ker'] = np.log10(data['retail_ker']+1)\n",
    "data['log_parking_ke'] = np.log10(data['parking_ke']+1)\n",
    "data['log_food_kerne'] = np.log10(data['food_kerne']+1)\n",
    "data['log_office_ker'] = np.log10(data['office_ker']+1)"
   ]
  },
  {
   "cell_type": "code",
   "execution_count": 6,
   "metadata": {},
   "outputs": [],
   "source": [
    "data['log_mtr_dist'] = np.log10(data['mtr_dist'])"
   ]
  },
  {
   "cell_type": "code",
   "execution_count": 7,
   "metadata": {},
   "outputs": [],
   "source": [
    "data['commercial'] = np.where(data['RASTERVALU']==11,1,0)"
   ]
  },
  {
   "cell_type": "code",
   "execution_count": 8,
   "metadata": {},
   "outputs": [],
   "source": [
    "y = data['kWh_m2_ann'].reset_index(drop=True)"
   ]
  },
  {
   "cell_type": "code",
   "execution_count": 9,
   "metadata": {},
   "outputs": [],
   "source": [
    "log_y = np.log10(y)"
   ]
  },
  {
   "cell_type": "code",
   "execution_count": 10,
   "metadata": {},
   "outputs": [
    {
     "data": {
      "text/plain": [
       "1.778729923996112"
      ]
     },
     "execution_count": 10,
     "metadata": {},
     "output_type": "execute_result"
    }
   ],
   "source": [
    "log_eui_median = log_y.median()\n",
    "log_eui_median"
   ]
  },
  {
   "cell_type": "code",
   "execution_count": 138,
   "metadata": {},
   "outputs": [],
   "source": [
    "#log_y_reshape = log_y.to_numpy().reshape(-1,1)"
   ]
  },
  {
   "cell_type": "code",
   "execution_count": 139,
   "metadata": {},
   "outputs": [],
   "source": [
    "#qt = QuantileTransformer(n_quantiles = 20, output_distribution = 'normal', random_state= 8000)\n",
    "#log_y_transform = qt.fit_transform(log_y_reshape)"
   ]
  },
  {
   "cell_type": "code",
   "execution_count": 140,
   "metadata": {},
   "outputs": [],
   "source": [
    "#log_y_transform_s = pd.Series(log_y_transform.flatten())"
   ]
  },
  {
   "cell_type": "code",
   "execution_count": 11,
   "metadata": {},
   "outputs": [],
   "source": [
    "log_y_category = pd.cut(log_y, bins=5)"
   ]
  },
  {
   "cell_type": "code",
   "execution_count": 12,
   "metadata": {},
   "outputs": [],
   "source": [
    "log_y_weight = compute_sample_weight('balanced',log_y_category)"
   ]
  },
  {
   "cell_type": "code",
   "execution_count": 143,
   "metadata": {},
   "outputs": [],
   "source": [
    "#Weight adjustment\n",
    "#for i in range(len(log_y)):\n",
    "#    if log_y[i]<=1.2 or log_y[i]>2.25:\n",
    "#        log_y_weight[i] = log_y_weight[i]*32\n",
    "#    elif log_y[i]>1.70 and log_y[i]<1.90:\n",
    "#        log_y_weight[i] = log_y_weight[i]/16\n",
    "#    else:\n",
    "#        log_y_weight[i] = log_y_weight[i]*6"
   ]
  },
  {
   "cell_type": "code",
   "execution_count": 13,
   "metadata": {},
   "outputs": [],
   "source": [
    "X = data[['log_hotel_kern','log_parking_ke','log_food_kerne','log_office_ker','log_retail_ker','DNI_HK','HKG_wind_s','tsd_mask','log_area',\n",
    "         'No_of_Stor','Year_Built','retro_before','retro_after','log_mtr_dist','is_commercial']].reset_index(drop=True)"
   ]
  },
  {
   "cell_type": "code",
   "execution_count": 14,
   "metadata": {},
   "outputs": [],
   "source": [
    "seed = 8000"
   ]
  },
  {
   "cell_type": "code",
   "execution_count": 15,
   "metadata": {},
   "outputs": [],
   "source": [
    "ols = LinearRegression()"
   ]
  },
  {
   "cell_type": "code",
   "execution_count": 16,
   "metadata": {},
   "outputs": [
    {
     "name": "stdout",
     "output_type": "stream",
     "text": [
      "RMSE: 0.3395\n",
      "R2: 0.1725\n",
      "Accuracy:  70.95%\n",
      "RMSE: 0.3339\n",
      "R2: 0.1762\n",
      "Accuracy:  70.95%\n",
      "RMSE: 0.3191\n",
      "R2: 0.2633\n",
      "Accuracy:  74.76%\n",
      "RMSE: 0.3085\n",
      "R2: 0.2994\n",
      "Accuracy:  70.95%\n",
      "RMSE: 0.3060\n",
      "R2: 0.2460\n",
      "Accuracy:  72.25%\n"
     ]
    }
   ],
   "source": [
    "cv = KFold(n_splits=5, random_state=seed, shuffle=True)\n",
    "\n",
    "for (train, test), i in zip(cv.split(X, log_y), range(10)):\n",
    "    ols.fit(X.iloc[train], log_y.iloc[train],sample_weight=log_y_weight[train])\n",
    "    log_y_pred = ols.predict(X.iloc[test])\n",
    "    log_y_true = log_y.loc[test].values\n",
    "\n",
    "    accuracy_num = 0 \n",
    "    \n",
    "    for i in range(len(log_y_pred)):\n",
    "        if log_y_true[i] > log_eui_median:\n",
    "            if log_y_pred[i] > log_eui_median:\n",
    "                accuracy_num = accuracy_num + 1\n",
    "        if log_y_true[i] <= log_eui_median:\n",
    "            if log_y_pred[i] <= log_eui_median:\n",
    "                accuracy_num = accuracy_num + 1\n",
    "                \n",
    "    rmse_test = metrics.mean_squared_error(log_y.iloc[test], log_y_pred, squared=False)\n",
    "    r2_test = metrics.r2_score(log_y.loc[test],log_y_pred)\n",
    "    accuarcy_test = \"{:.2%}\".format(accuracy_num/len(log_y_pred))\n",
    "    print ('RMSE: %.4f'%rmse_test)\n",
    "    print ('R2: %.4f'%r2_test)\n",
    "    print ('Accuracy: ', accuarcy_test)"
   ]
  },
  {
   "cell_type": "code",
   "execution_count": 17,
   "metadata": {},
   "outputs": [],
   "source": [
    "plt.rcParams[\"font.family\"] = \"Times New Roman\"\n",
    "plt.rcParams[\"savefig.dpi\"] = 300"
   ]
  },
  {
   "cell_type": "code",
   "execution_count": 18,
   "metadata": {},
   "outputs": [
    {
     "data": {
      "image/png": "[encoded data removed]",
      "text/plain": [
       "<Figure size 432x432 with 1 Axes>"
      ]
     },
     "metadata": {
      "needs_background": "light"
     },
     "output_type": "display_data"
    }
   ],
   "source": [
    "fig, ax = plt.subplots(1,1,figsize=(6,6))\n",
    "ax.scatter(log_y.iloc[test], log_y_pred, color='b', s=10)    \n",
    "ax.plot([-10,10],[-10,10], color='k', linewidth=1)\n",
    "ax.set_xlim([0.5,3])\n",
    "ax.set_ylim([0.5,3])\n",
    "ax.tick_params(axis='both', which='major', labelsize=22)\n",
    "ax.set_title(\"Linear_regression_test:R2=0.23\", fontsize=22)\n",
    "#ax.annotate('R2=0.31',(1.5,2.5), fontsize=22)\n",
    "#ax.set_title(\"%f Error Plot\"%(r2_score(log_y.iloc[test],log_y_pred)), fontsize=17)\n",
    "#ax.set_title(\"%f Error Plot\"%(mean_squared_error(log_y_transform_s,log_y_transform_pred,squared=False)), fontsize=17)\n",
    "ax.set_xlabel(\"log10_EUI_observation\", fontsize=22)\n",
    "ax.set_ylabel(\"log10_EUI_prediction\", fontsize=22)\n",
    "ax.xaxis.set_major_locator(plt.MaxNLocator(5))\n",
    "ax.yaxis.set_major_locator(plt.MaxNLocator(5))\n",
    "\n",
    "plt.subplots_adjust(left=0.2,right=0.9)\n",
    "\n",
    "plt.savefig(r'C:\\Users\\zhongminglu\\OneDrive - HKUST\\Paper 13\\linear_regression_test.png')\n",
    "\n",
    "plt.show()\n",
    "plt.close()"
   ]
  },
  {
   "cell_type": "code",
   "execution_count": 124,
   "metadata": {},
   "outputs": [],
   "source": [
    "#ols.fit(X_reset, log_y_reset)\n",
    "log_y_pred = ols.predict(X)\n",
    "#log_y_pred = qt.inverse_transform(log_y_transform_pred.reshape(-1,1))"
   ]
  },
  {
   "cell_type": "code",
   "execution_count": 125,
   "metadata": {},
   "outputs": [
    {
     "data": {
      "image/png": "[encoded data removed]",
      "text/plain": [
       "<Figure size 360x360 with 1 Axes>"
      ]
     },
     "metadata": {
      "needs_background": "light"
     },
     "output_type": "display_data"
    }
   ],
   "source": [
    "fig, ax = plt.subplots(1,1,figsize=(5,5))\n",
    "ax.scatter(log_y, log_y_pred, color='b', s=4, label=\"Predicted\")    \n",
    "ax.plot([-10,10],[-10,10], color='k', linewidth=1)\n",
    "ax.set_xlim([0.5,3])\n",
    "ax.set_ylim([0.5,3])\n",
    "ax.set_title(\"%f Error Plot\"%(metrics.r2_score(log_y,log_y_pred)), fontsize=17)\n",
    "#ax.set_title(\"%f Error Plot\"%(metrics.mean_squared_error(log_y_reset,log_y_pred,squared=False)), fontsize=17)\n",
    "ax.set_xlabel(\"EUI(KWh/m2/year)\", fontsize=16)\n",
    "ax.set_ylabel(\"EUI_prediction(KWh/m2/year)\", fontsize=16)\n",
    "plt.show()\n",
    "plt.close()"
   ]
  },
  {
   "cell_type": "code",
   "execution_count": 126,
   "metadata": {},
   "outputs": [
    {
     "data": {
      "text/plain": [
       "array([ 0.0143474 , -0.02401127,  0.05311908, -0.00570783,  0.06262305,\n",
       "       -0.26241438, -0.02809994,  0.29778718,  0.29719991,  0.00150542,\n",
       "        0.00812818,  0.18692298,  0.17419168, -0.13338663, -0.05217396])"
      ]
     },
     "execution_count": 126,
     "metadata": {},
     "output_type": "execute_result"
    }
   ],
   "source": [
    "ols.coef_"
   ]
  },
  {
   "cell_type": "code",
   "execution_count": 149,
   "metadata": {},
   "outputs": [
    {
     "data": {
      "image/png": "[encoded data removed]",
      "text/plain": [
       "<Figure size 460.8x316.8 with 1 Axes>"
      ]
     },
     "metadata": {
      "needs_background": "light"
     },
     "output_type": "display_data"
    }
   ],
   "source": [
    "fig, ax = plt.subplots(1,1,figsize=(6.4,4.4))\n",
    "#mu, sigma = y.mean(), y.std()\n",
    "#bins = np.logspace(np.log10(1),np.log10(y.max()),50) \n",
    "#plt.hist(y, bins=bins)\n",
    "plt.hist(log_y_true,bins=30)\n",
    "plt.hist(log_y_pred,bins=30)\n",
    "#plt.xscale(\"log\")\n",
    "\n",
    "ax.set_title(\"Distribution of EUI\", fontsize=22, color='k')\n",
    "ax.set_ylabel(\"Frequency\", fontsize=22, color='k')\n",
    "ax.set_xlabel(\"EUI(KWh/m2/year)\", fontsize=22, color='k')\n",
    "ax.tick_params(axis='both', which='major', labelsize=14)\n",
    "\n",
    "plt.show()\n",
    "plt.close()"
   ]
  },
  {
   "cell_type": "code",
   "execution_count": null,
   "metadata": {},
   "outputs": [],
   "source": []
  }
 ],
 "metadata": {
  "kernelspec": {
   "display_name": "Python 3",
   "language": "python",
   "name": "python3"
  },
  "language_info": {
   "codemirror_mode": {
    "name": "ipython",
    "version": 3
   },
   "file_extension": ".py",
   "mimetype": "text/x-python",
   "name": "python",
   "nbconvert_exporter": "python",
   "pygments_lexer": "ipython3",
   "version": "3.8.3"
  }
 },
 "nbformat": 4,
 "nbformat_minor": 4
}
